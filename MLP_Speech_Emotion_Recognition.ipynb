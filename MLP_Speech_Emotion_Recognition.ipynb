{
  "cells": [
    {
      "cell_type": "code",
      "execution_count": null,
      "metadata": {
        "colab": {
          "base_uri": "https://localhost:8080/"
        },
        "id": "R8D8BttYEdlK",
        "outputId": "c5127466-4a28-4ed4-ad01-996b58671b4c"
      },
      "outputs": [
        {
          "output_type": "stream",
          "name": "stdout",
          "text": [
            "Drive already mounted at /content/drive; to attempt to forcibly remount, call drive.mount(\"/content/drive\", force_remount=True).\n"
          ]
        }
      ],
      "source": [
        "from google.colab import drive\n",
        "drive.mount('/content/drive')"
      ]
    },
    {
      "cell_type": "code",
      "execution_count": null,
      "metadata": {
        "id": "9mfn1F_qgJd-"
      },
      "outputs": [],
      "source": [
        "import librosa \n",
        "import soundfile as sf\n",
        "import numpy as np\n",
        "import os, glob\n",
        "\n",
        "import librosa.display\n",
        " \n",
        "from sklearn.model_selection import train_test_split\n",
        "from sklearn.neural_network import MLPClassifier\n",
        "from sklearn.metrics import accuracy_score\n",
        "import pandas as pd\n",
        "import seaborn as sns\n",
        "import matplotlib. pyplot as plt"
      ]
    },
    {
      "cell_type": "code",
      "execution_count": null,
      "metadata": {
        "id": "20u9N_PnkQTK"
      },
      "outputs": [],
      "source": [
        "#from sklearn.preprocessing import StandardScaler, OneHotEncoder\n",
        "from sklearn.metrics import confusion_matrix, classification_report\n",
        "\n",
        "# to play the audio files\n",
        "#from IPython.display import Audio"
      ]
    },
    {
      "cell_type": "code",
      "execution_count": null,
      "metadata": {
        "id": "6_9M0TEugrEi"
      },
      "outputs": [],
      "source": [
        "emotion_labels = {\n",
        "  '01':'neutral',\n",
        "  '02':'calm',\n",
        "  '03':'happy',\n",
        "  '04':'sad',\n",
        "  '05':'angry',\n",
        "  '06':'fearful',\n",
        "  '07':'disgust',\n",
        "  '08':'surprised'\n",
        "}\n",
        "\n",
        "#case 1\n",
        "#focused_emotion_labels = ['happy', 'sad']\n",
        "#case 2\n",
        "focused_emotion_labels = ['happy', 'sad', 'angry']\n",
        "#case 3\n",
        "#focused_emotion_labels = ['neutral', 'happy', 'sad', 'angry']\n",
        "#case 4\n",
        "#focused_emotion_labels = ['neutral', 'calm', 'happy', 'sad', 'angry', 'fearful', 'disgust', 'surprised']"
      ]
    },
    {
      "cell_type": "code",
      "execution_count": null,
      "metadata": {
        "id": "20EQLicHgx_z"
      },
      "outputs": [],
      "source": [
        "def audio_features(file_title, mfcc):\n",
        "    with sf.SoundFile(file_title) as audio_recording:\n",
        "        audio = audio_recording.read(dtype=\"float32\")\n",
        "        sample_rate = audio_recording.samplerate\n",
        "        result=np.array([])\n",
        "        if mfcc:\n",
        "            mfccs=np.mean(librosa.feature.mfcc(y=audio, sr=sample_rate, n_mfcc=40).T, axis=0)\n",
        "            result=np.hstack((result, mfccs))\n",
        "        return result"
      ]
    },
    {
      "cell_type": "code",
      "execution_count": null,
      "metadata": {
        "id": "Po2CDu8hkKkQ"
      },
      "outputs": [],
      "source": [
        "#path = '/content/drive/MyDrive/Machine_Learning/Audio_Speech_Actors_01-24/'\n",
        "path = '/content/drive/MyDrive/speech-emotion-recognition-ravdess-data'"
      ]
    },
    {
      "cell_type": "code",
      "execution_count": null,
      "metadata": {
        "id": "GSXwSN-3g_IT"
      },
      "outputs": [],
      "source": [
        "def loading_audio_data():\n",
        "    x = []\n",
        "    y = []\n",
        "    for file in glob.glob(path+\"//Actor_*//*.wav\"):\n",
        "        file_path=os.path.basename(file)\n",
        "        emotion = emotion_labels[file_path.split(\"-\")[2]]\n",
        "        if emotion not in focused_emotion_labels:\n",
        "             continue\n",
        "        feature = audio_features(file, mfcc=True)  #removed chroma and mel\n",
        "        x.append(feature)\n",
        "        y.append(emotion)\n",
        "\n",
        "    final_dataset = train_test_split(np.array(x), y, test_size=0.2)\n",
        "    return final_dataset"
      ]
    },
    {
      "cell_type": "code",
      "execution_count": null,
      "metadata": {
        "id": "gN6kBSc-rifM"
      },
      "outputs": [],
      "source": [
        "X_train, X_test, y_train, y_test = loading_audio_data()"
      ]
    },
    {
      "cell_type": "code",
      "execution_count": null,
      "metadata": {
        "colab": {
          "base_uri": "https://localhost:8080/"
        },
        "id": "NZxO7iytFmty",
        "outputId": "418f2923-b9e5-4988-a39a-e58af122de31"
      },
      "outputs": [
        {
          "output_type": "stream",
          "name": "stdout",
          "text": [
            "Features extracted: {(460, 40)}\n"
          ]
        }
      ],
      "source": [
        "# Get the number of features extracted\n",
        "print('Features extracted:', {X_train.shape})"
      ]
    },
    {
      "cell_type": "code",
      "source": [
        "X_train"
      ],
      "metadata": {
        "colab": {
          "base_uri": "https://localhost:8080/"
        },
        "id": "kwS5HL-x7FzZ",
        "outputId": "eb9f823a-9103-42ba-dc62-06c51327896b"
      },
      "execution_count": null,
      "outputs": [
        {
          "output_type": "execute_result",
          "data": {
            "text/plain": [
              "array([[-4.72073608e+02,  1.77639179e+01, -3.48452110e+01, ...,\n",
              "        -1.29887712e+00,  1.65851724e+00,  1.04530525e+00],\n",
              "       [-6.86165161e+02,  6.86602173e+01,  9.45426750e+00, ...,\n",
              "         3.74710202e-01,  1.57189083e+00,  1.05813079e-01],\n",
              "       [-5.00000763e+02,  5.07351036e+01, -1.44651356e+01, ...,\n",
              "         1.95198262e+00,  2.61928868e+00,  2.00372577e+00],\n",
              "       ...,\n",
              "       [-6.91339783e+02,  6.37192192e+01,  2.62865186e+00, ...,\n",
              "        -8.86689842e-01, -9.64223742e-01, -8.48464251e-01],\n",
              "       [-6.18056091e+02,  4.20637932e+01, -1.29646482e+01, ...,\n",
              "         1.71212041e+00,  3.25850987e+00,  2.08075905e+00],\n",
              "       [-4.98104736e+02,  3.76056557e+01, -1.61294365e+01, ...,\n",
              "         4.37982988e+00, -1.41200423e+00, -2.53162146e+00]])"
            ]
          },
          "metadata": {},
          "execution_count": 111
        }
      ]
    },
    {
      "cell_type": "code",
      "execution_count": null,
      "metadata": {
        "id": "bflAiOJ6tf4e"
      },
      "outputs": [],
      "source": [
        " \n",
        "model = MLPClassifier(hidden_layer_sizes=(100,), learning_rate='adaptive', max_iter=400) "
      ]
    },
    {
      "cell_type": "code",
      "execution_count": null,
      "metadata": {
        "colab": {
          "base_uri": "https://localhost:8080/"
        },
        "id": "k-bGMdaEtzUz",
        "outputId": "10833c6b-620c-4e57-dbbc-24e57ba03a55"
      },
      "outputs": [
        {
          "output_type": "execute_result",
          "data": {
            "text/plain": [
              "MLPClassifier(learning_rate='adaptive', max_iter=400)"
            ]
          },
          "metadata": {},
          "execution_count": 113
        }
      ],
      "source": [
        "model.fit(X_train, y_train)"
      ]
    },
    {
      "cell_type": "code",
      "execution_count": null,
      "metadata": {
        "colab": {
          "base_uri": "https://localhost:8080/"
        },
        "id": "gD8K9mhGt6c6",
        "outputId": "1c24178f-80a6-4f18-8fa5-528ee970efab"
      },
      "outputs": [
        {
          "output_type": "stream",
          "name": "stdout",
          "text": [
            "Accuracy of the Recognizer is: 72.4%\n"
          ]
        }
      ],
      "source": [
        "y_pred = model.predict(X_test)\n",
        "accuracy = accuracy_score(y_true=y_test, y_pred=y_pred)\n",
        "print(\"Accuracy of the Recognizer is: {:.1f}%\".format(accuracy*100))"
      ]
    },
    {
      "cell_type": "code",
      "execution_count": null,
      "metadata": {
        "id": "Dcv0g3nEMmRA",
        "colab": {
          "base_uri": "https://localhost:8080/"
        },
        "outputId": "0447cb76-faa4-4501-fcfd-0bcd752e00eb"
      },
      "outputs": [
        {
          "output_type": "stream",
          "name": "stdout",
          "text": [
            "              precision    recall  f1-score   support\n",
            "\n",
            "       angry       0.87      0.56      0.68        36\n",
            "       happy       0.61      0.78      0.68        36\n",
            "         sad       0.77      0.82      0.79        44\n",
            "\n",
            "    accuracy                           0.72       116\n",
            "   macro avg       0.75      0.72      0.72       116\n",
            "weighted avg       0.75      0.72      0.72       116\n",
            "\n"
          ]
        }
      ],
      "source": [
        "print(classification_report(y_test,y_pred))"
      ]
    },
    {
      "cell_type": "code",
      "execution_count": null,
      "metadata": {
        "id": "jqor-orTMr6n",
        "colab": {
          "base_uri": "https://localhost:8080/"
        },
        "outputId": "7e4a7d13-0ab7-407e-b3c0-2812578f6147"
      },
      "outputs": [
        {
          "output_type": "stream",
          "name": "stdout",
          "text": [
            "[[20 10  6]\n",
            " [ 3 28  5]\n",
            " [ 0  8 36]]\n"
          ]
        }
      ],
      "source": [
        "matrix = confusion_matrix(y_test,y_pred)\n",
        "print (matrix)"
      ]
    },
    {
      "cell_type": "code",
      "source": [
        "# fig, ax = plt.subplots(figsize=(7.5, 7.5))\n",
        "# ax.matshow(matrix, cmap=plt.cm.Blues, alpha=0.3)\n",
        "# for i in range(matrix.shape[0]):\n",
        "#     for j in range(matrix.shape[1]):\n",
        "#         ax.text(x=j, y=i,s=matrix[i, j], va='center', ha='center', size='xx-large')\n",
        " \n",
        "# plt.xlabel('Predictions', fontsize=18)\n",
        "# plt.ylabel('Actuals', fontsize=18)\n",
        "# plt.title('Confusion Matrix', fontsize=18)\n",
        "# plt.show()"
      ],
      "metadata": {
        "id": "SkVpFETyahvr"
      },
      "execution_count": null,
      "outputs": []
    },
    {
      "cell_type": "code",
      "source": [
        "plt.title(\"Confusion Matrix (Accuracy: %s%%)\" % round(accuracy*100,2))\n",
        "emotion_labels = ['angry', 'happy', 'sad']\n",
        "df_cm = pd.DataFrame(matrix, emotion_labels, emotion_labels)\n",
        "sns.heatmap(df_cm, cmap='Blues', annot=True)\n",
        "plt.xlabel(\"Model Prediction\")\n",
        "plt.ylabel(\"Ground Truth\")\n"
      ],
      "metadata": {
        "colab": {
          "base_uri": "https://localhost:8080/",
          "height": 318
        },
        "id": "T44v2If0qD81",
        "outputId": "8369d7cb-bd22-4ee7-aa5b-423fed449462"
      },
      "execution_count": null,
      "outputs": [
        {
          "output_type": "execute_result",
          "data": {
            "text/plain": [
              "Text(30.5, 0.5, 'Ground Truth')"
            ]
          },
          "metadata": {},
          "execution_count": 122
        },
        {
          "output_type": "display_data",
          "data": {
            "text/plain": [
              "<Figure size 432x288 with 2 Axes>"
            ],
            "image/png": "[encoded data removed]"
          },
          "metadata": {}
        }
      ]
    }
  ],
  "metadata": {
    "colab": {
      "provenance": []
    },
    "kernelspec": {
      "display_name": "Python 3",
      "name": "python3"
    },
    "language_info": {
      "name": "python"
    },
    "gpuClass": "standard"
  },
  "nbformat": 4,
  "nbformat_minor": 0
}